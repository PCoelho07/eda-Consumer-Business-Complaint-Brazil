{
 "cells": [
  {
   "cell_type": "code",
   "execution_count": 48,
   "metadata": {
    "collapsed": true
   },
   "outputs": [],
   "source": [
    "import pandas as pd\n",
    "import numpy as np\n",
    "import matplotlib.pyplot as plt\n",
    "import seaborn as sns\n",
    "%matplotlib inline"
   ]
  },
  {
   "cell_type": "markdown",
   "metadata": {},
   "source": [
    "Essa foi apenas uma análise exploratória simples em busca de informações interessantes, como por exemplo, descobrimos que no ano de 2016 no qual os estados da Bahia e Pernambuco foram os estados que mais não atenderam as reclamações feitas pelos consumidores, e que também a **Samsung** não foi tão eficiente assim no atendimento de chamados(é a top 1 das empresas que mais não atendeream seus consumidores), dentre outras observações."
   ]
  },
  {
   "cell_type": "code",
   "execution_count": 49,
   "metadata": {
    "collapsed": true
   },
   "outputs": [],
   "source": [
    "reclamacoes_df = pd.read_csv('reclamacoes-fundamentadas-sindec-2016.csv')"
   ]
  },
  {
   "cell_type": "code",
   "execution_count": 50,
   "metadata": {},
   "outputs": [
    {
     "data": {
      "text/html": [
       "<div>\n",
       "<style>\n",
       "    .dataframe thead tr:only-child th {\n",
       "        text-align: right;\n",
       "    }\n",
       "\n",
       "    .dataframe thead th {\n",
       "        text-align: left;\n",
       "    }\n",
       "\n",
       "    .dataframe tbody tr th {\n",
       "        vertical-align: top;\n",
       "    }\n",
       "</style>\n",
       "<table border=\"1\" class=\"dataframe\">\n",
       "  <thead>\n",
       "    <tr style=\"text-align: right;\">\n",
       "      <th></th>\n",
       "      <th>AnoCalendario</th>\n",
       "      <th>DataArquivamento</th>\n",
       "      <th>DataAbertura</th>\n",
       "      <th>CodigoRegiao</th>\n",
       "      <th>Regiao</th>\n",
       "      <th>UF</th>\n",
       "      <th>strRazaoSocial</th>\n",
       "      <th>strNomeFantasia</th>\n",
       "      <th>Tipo</th>\n",
       "      <th>NumeroCNPJ</th>\n",
       "      <th>...</th>\n",
       "      <th>CNAEPrincipal</th>\n",
       "      <th>DescCNAEPrincipal</th>\n",
       "      <th>Atendida</th>\n",
       "      <th>CodigoAssunto</th>\n",
       "      <th>DescricaoAssunto</th>\n",
       "      <th>CodigoProblema</th>\n",
       "      <th>DescricaoProblema</th>\n",
       "      <th>SexoConsumidor</th>\n",
       "      <th>FaixaEtariaConsumidor</th>\n",
       "      <th>CEPConsumidor</th>\n",
       "    </tr>\n",
       "  </thead>\n",
       "  <tbody>\n",
       "    <tr>\n",
       "      <th>0</th>\n",
       "      <td>2016</td>\n",
       "      <td>2016-02-17 13:43:08.000</td>\n",
       "      <td>2015-10-29 10:59:59.000</td>\n",
       "      <td>2</td>\n",
       "      <td>Nordeste</td>\n",
       "      <td>PE</td>\n",
       "      <td>CVC BRASIL OPERADORA E AGENCIA DE VIAGENS S.A.</td>\n",
       "      <td>CVC</td>\n",
       "      <td>1</td>\n",
       "      <td>1.076026e+13</td>\n",
       "      <td>...</td>\n",
       "      <td>7911200.0</td>\n",
       "      <td>AGÊNCIAS DE VIAGENS</td>\n",
       "      <td>S</td>\n",
       "      <td>276</td>\n",
       "      <td>Agências e Operadoras de viagens (pacotes turí...</td>\n",
       "      <td>205.0</td>\n",
       "      <td>Consulta Sobre Serviços (Pesquisa, cartilha, e...</td>\n",
       "      <td>M</td>\n",
       "      <td>entre 61 a 70 anos</td>\n",
       "      <td>52061540.0</td>\n",
       "    </tr>\n",
       "    <tr>\n",
       "      <th>1</th>\n",
       "      <td>2016</td>\n",
       "      <td>2016-12-15 18:11:35.000</td>\n",
       "      <td>2016-11-18 14:52:22.000</td>\n",
       "      <td>2</td>\n",
       "      <td>Nordeste</td>\n",
       "      <td>PE</td>\n",
       "      <td>GIORGIO ARMANI BRASIL COMERCIO</td>\n",
       "      <td>EMPORIO ARMANI</td>\n",
       "      <td>1</td>\n",
       "      <td>1.318050e+13</td>\n",
       "      <td>...</td>\n",
       "      <td>NaN</td>\n",
       "      <td>NaN</td>\n",
       "      <td>N</td>\n",
       "      <td>132</td>\n",
       "      <td>Vestuário ( Calçado / Roupa )</td>\n",
       "      <td>105.0</td>\n",
       "      <td>Produto com vício</td>\n",
       "      <td>F</td>\n",
       "      <td>entre 31 a 40 anos</td>\n",
       "      <td>51010140.0</td>\n",
       "    </tr>\n",
       "    <tr>\n",
       "      <th>2</th>\n",
       "      <td>2016</td>\n",
       "      <td>2016-09-16 09:01:46.000</td>\n",
       "      <td>2016-06-29 13:58:35.000</td>\n",
       "      <td>2</td>\n",
       "      <td>Nordeste</td>\n",
       "      <td>PE</td>\n",
       "      <td>COMPANHIA ENERGETICA DE PERNAMBUCO</td>\n",
       "      <td>CELPE</td>\n",
       "      <td>1</td>\n",
       "      <td>1.083593e+13</td>\n",
       "      <td>...</td>\n",
       "      <td>3514000.0</td>\n",
       "      <td>DISTRIBUIÇÃO DE ENERGIA ELÉTRICA</td>\n",
       "      <td>S</td>\n",
       "      <td>185</td>\n",
       "      <td>Energia Elétrica</td>\n",
       "      <td>134.0</td>\n",
       "      <td>Cobrança indevida/abusiva</td>\n",
       "      <td>F</td>\n",
       "      <td>entre 51 a 60 anos</td>\n",
       "      <td>53060600.0</td>\n",
       "    </tr>\n",
       "    <tr>\n",
       "      <th>3</th>\n",
       "      <td>2016</td>\n",
       "      <td>2016-02-18 13:30:30.000</td>\n",
       "      <td>2016-01-21 12:23:51.000</td>\n",
       "      <td>2</td>\n",
       "      <td>Nordeste</td>\n",
       "      <td>PE</td>\n",
       "      <td>MOURA DUBEUX</td>\n",
       "      <td>MOURA DUBEUX</td>\n",
       "      <td>1</td>\n",
       "      <td>1.204963e+13</td>\n",
       "      <td>...</td>\n",
       "      <td>4120400.0</td>\n",
       "      <td>CONSTRUÇÃO DE EDIFÍCIOS</td>\n",
       "      <td>S</td>\n",
       "      <td>82</td>\n",
       "      <td>Incorporação ( Construtoras e Incorporadoras )</td>\n",
       "      <td>88.0</td>\n",
       "      <td>Não entrega do contrato</td>\n",
       "      <td>M</td>\n",
       "      <td>entre 51 a 60 anos</td>\n",
       "      <td>53090220.0</td>\n",
       "    </tr>\n",
       "    <tr>\n",
       "      <th>4</th>\n",
       "      <td>2016</td>\n",
       "      <td>2016-11-09 14:20:36.000</td>\n",
       "      <td>2016-10-07 16:39:59.000</td>\n",
       "      <td>2</td>\n",
       "      <td>Nordeste</td>\n",
       "      <td>PE</td>\n",
       "      <td>ASSOCIAÇÃO UNIFICADA PAULISTA DE ENSINO RENOVADO</td>\n",
       "      <td>UNIP</td>\n",
       "      <td>1</td>\n",
       "      <td>NaN</td>\n",
       "      <td>...</td>\n",
       "      <td>NaN</td>\n",
       "      <td>NaN</td>\n",
       "      <td>S</td>\n",
       "      <td>233</td>\n",
       "      <td>Escola ( Pré, 1º, 2º Graus e Superior )</td>\n",
       "      <td>199.0</td>\n",
       "      <td>Documentos: não fornecimento (escolares, recib...</td>\n",
       "      <td>F</td>\n",
       "      <td>entre 21 a 30 anos</td>\n",
       "      <td>53437100.0</td>\n",
       "    </tr>\n",
       "  </tbody>\n",
       "</table>\n",
       "<p>5 rows × 23 columns</p>\n",
       "</div>"
      ],
      "text/plain": [
       "   AnoCalendario         DataArquivamento             DataAbertura  \\\n",
       "0           2016  2016-02-17 13:43:08.000  2015-10-29 10:59:59.000   \n",
       "1           2016  2016-12-15 18:11:35.000  2016-11-18 14:52:22.000   \n",
       "2           2016  2016-09-16 09:01:46.000  2016-06-29 13:58:35.000   \n",
       "3           2016  2016-02-18 13:30:30.000  2016-01-21 12:23:51.000   \n",
       "4           2016  2016-11-09 14:20:36.000  2016-10-07 16:39:59.000   \n",
       "\n",
       "   CodigoRegiao    Regiao  UF  \\\n",
       "0             2  Nordeste  PE   \n",
       "1             2  Nordeste  PE   \n",
       "2             2  Nordeste  PE   \n",
       "3             2  Nordeste  PE   \n",
       "4             2  Nordeste  PE   \n",
       "\n",
       "                                     strRazaoSocial strNomeFantasia  Tipo  \\\n",
       "0    CVC BRASIL OPERADORA E AGENCIA DE VIAGENS S.A.             CVC     1   \n",
       "1                    GIORGIO ARMANI BRASIL COMERCIO  EMPORIO ARMANI     1   \n",
       "2                COMPANHIA ENERGETICA DE PERNAMBUCO           CELPE     1   \n",
       "3                                      MOURA DUBEUX    MOURA DUBEUX     1   \n",
       "4  ASSOCIAÇÃO UNIFICADA PAULISTA DE ENSINO RENOVADO            UNIP     1   \n",
       "\n",
       "     NumeroCNPJ      ...       CNAEPrincipal  \\\n",
       "0  1.076026e+13      ...           7911200.0   \n",
       "1  1.318050e+13      ...                 NaN   \n",
       "2  1.083593e+13      ...           3514000.0   \n",
       "3  1.204963e+13      ...           4120400.0   \n",
       "4           NaN      ...                 NaN   \n",
       "\n",
       "                  DescCNAEPrincipal Atendida  CodigoAssunto  \\\n",
       "0               AGÊNCIAS DE VIAGENS        S            276   \n",
       "1                               NaN        N            132   \n",
       "2  DISTRIBUIÇÃO DE ENERGIA ELÉTRICA        S            185   \n",
       "3           CONSTRUÇÃO DE EDIFÍCIOS        S             82   \n",
       "4                               NaN        S            233   \n",
       "\n",
       "                                    DescricaoAssunto CodigoProblema  \\\n",
       "0  Agências e Operadoras de viagens (pacotes turí...          205.0   \n",
       "1                      Vestuário ( Calçado / Roupa )          105.0   \n",
       "2                                   Energia Elétrica          134.0   \n",
       "3     Incorporação ( Construtoras e Incorporadoras )           88.0   \n",
       "4            Escola ( Pré, 1º, 2º Graus e Superior )          199.0   \n",
       "\n",
       "                                   DescricaoProblema SexoConsumidor  \\\n",
       "0  Consulta Sobre Serviços (Pesquisa, cartilha, e...              M   \n",
       "1                                  Produto com vício              F   \n",
       "2                          Cobrança indevida/abusiva              F   \n",
       "3                            Não entrega do contrato              M   \n",
       "4  Documentos: não fornecimento (escolares, recib...              F   \n",
       "\n",
       "   FaixaEtariaConsumidor CEPConsumidor  \n",
       "0     entre 61 a 70 anos    52061540.0  \n",
       "1     entre 31 a 40 anos    51010140.0  \n",
       "2     entre 51 a 60 anos    53060600.0  \n",
       "3     entre 51 a 60 anos    53090220.0  \n",
       "4     entre 21 a 30 anos    53437100.0  \n",
       "\n",
       "[5 rows x 23 columns]"
      ]
     },
     "execution_count": 50,
     "metadata": {},
     "output_type": "execute_result"
    }
   ],
   "source": [
    "reclamacoes_df.head()"
   ]
  },
  {
   "cell_type": "code",
   "execution_count": 51,
   "metadata": {},
   "outputs": [
    {
     "data": {
      "text/plain": [
       "array(['PE', 'SC', 'PR', 'GO', 'MA', 'RJ', 'PB', 'ES', 'MS', 'BA', 'DF',\n",
       "       'MG', 'CE', 'TO', 'RN', 'AM', 'MT', 'PA', 'PI', 'RO', 'SP', 'RS',\n",
       "       'AL'], dtype=object)"
      ]
     },
     "execution_count": 51,
     "metadata": {},
     "output_type": "execute_result"
    }
   ],
   "source": [
    "reclamacoes_df['UF'].unique()"
   ]
  },
  {
   "cell_type": "code",
   "execution_count": 52,
   "metadata": {},
   "outputs": [
    {
     "data": {
      "text/plain": [
       "array(['Nordeste', 'Sul', 'Centro-oeste', 'Sudeste', 'Norte'], dtype=object)"
      ]
     },
     "execution_count": 52,
     "metadata": {},
     "output_type": "execute_result"
    }
   ],
   "source": [
    "reclamacoes_df['Regiao'].unique()"
   ]
  },
  {
   "cell_type": "markdown",
   "metadata": {},
   "source": [
    "### Região Nordeste"
   ]
  },
  {
   "cell_type": "code",
   "execution_count": 53,
   "metadata": {
    "collapsed": true
   },
   "outputs": [],
   "source": [
    "nordeste = (reclamacoes_df['Regiao'] == 'Nordeste')\n",
    "reclamacoes_nordeste = reclamacoes_df[nordeste]"
   ]
  },
  {
   "cell_type": "code",
   "execution_count": 54,
   "metadata": {},
   "outputs": [
    {
     "data": {
      "text/plain": [
       "(66411, 23)"
      ]
     },
     "execution_count": 54,
     "metadata": {},
     "output_type": "execute_result"
    }
   ],
   "source": [
    "reclamacoes_nordeste.shape"
   ]
  },
  {
   "cell_type": "code",
   "execution_count": 55,
   "metadata": {},
   "outputs": [
    {
     "data": {
      "text/plain": [
       "Index([u'AnoCalendario', u'DataArquivamento', u'DataAbertura', u'CodigoRegiao',\n",
       "       u'Regiao', u'UF', u'strRazaoSocial', u'strNomeFantasia', u'Tipo',\n",
       "       u'NumeroCNPJ', u'RadicalCNPJ', u'RazaoSocialRFB', u'NomeFantasiaRFB',\n",
       "       u'CNAEPrincipal', u'DescCNAEPrincipal', u'Atendida', u'CodigoAssunto',\n",
       "       u'DescricaoAssunto', u'CodigoProblema', u'DescricaoProblema',\n",
       "       u'SexoConsumidor', u'FaixaEtariaConsumidor', u'CEPConsumidor'],\n",
       "      dtype='object')"
      ]
     },
     "execution_count": 55,
     "metadata": {},
     "output_type": "execute_result"
    }
   ],
   "source": [
    "reclamacoes_nordeste.columns"
   ]
  },
  {
   "cell_type": "markdown",
   "metadata": {},
   "source": [
    "### Vamos explorar a questão do atendimento das questões(atendidas e não atendidas)"
   ]
  },
  {
   "cell_type": "code",
   "execution_count": 56,
   "metadata": {},
   "outputs": [
    {
     "data": {
      "text/plain": [
       "array(['S', 'N'], dtype=object)"
      ]
     },
     "execution_count": 56,
     "metadata": {},
     "output_type": "execute_result"
    }
   ],
   "source": [
    "reclamacoes_nordeste['Atendida'].unique()"
   ]
  },
  {
   "cell_type": "code",
   "execution_count": 57,
   "metadata": {},
   "outputs": [
    {
     "data": {
      "text/plain": [
       "count     66411\n",
       "unique        2\n",
       "top           S\n",
       "freq      41090\n",
       "Name: Atendida, dtype: object"
      ]
     },
     "execution_count": 57,
     "metadata": {},
     "output_type": "execute_result"
    }
   ],
   "source": [
    "reclamacoes_nordeste['Atendida'].describe()"
   ]
  },
  {
   "cell_type": "code",
   "execution_count": 58,
   "metadata": {
    "collapsed": true
   },
   "outputs": [],
   "source": [
    "atendidas = reclamacoes_nordeste['Atendida'] == 'S'\n",
    "nao_atendidas = reclamacoes_nordeste['Atendida'] == 'N'\n",
    "reclamacoes_atendidas_ne = reclamacoes_nordeste[atendidas]\n",
    "reclamacoes_naoatendidas_ne = reclamacoes_nordeste[nao_atendidas]"
   ]
  },
  {
   "cell_type": "code",
   "execution_count": 77,
   "metadata": {},
   "outputs": [
    {
     "name": "stdout",
     "output_type": "stream",
     "text": [
      "Reclamações antedidas: 41090 61.87%\n",
      "Reclamações não antedidas: 25321 38.13%\n"
     ]
    }
   ],
   "source": [
    "print('Reclamações antedidas: %d %.2f%%' %(len(reclamacoes_atendidas_ne), float(len(reclamacoes_atendidas_ne))/len(reclamacoes_nordeste['Atendida'])*100 ))\n",
    "print('Reclamações não antedidas: %d %.2f%%' %(len(reclamacoes_naoatendidas_ne),  float(len(reclamacoes_naoatendidas_ne))/len(reclamacoes_nordeste['Atendida'])*100))"
   ]
  },
  {
   "cell_type": "markdown",
   "metadata": {},
   "source": [
    "### Vamos explorar as reclamações não atendidas"
   ]
  },
  {
   "cell_type": "code",
   "execution_count": 78,
   "metadata": {},
   "outputs": [
    {
     "data": {
      "text/html": [
       "<div>\n",
       "<style>\n",
       "    .dataframe thead tr:only-child th {\n",
       "        text-align: right;\n",
       "    }\n",
       "\n",
       "    .dataframe thead th {\n",
       "        text-align: left;\n",
       "    }\n",
       "\n",
       "    .dataframe tbody tr th {\n",
       "        vertical-align: top;\n",
       "    }\n",
       "</style>\n",
       "<table border=\"1\" class=\"dataframe\">\n",
       "  <thead>\n",
       "    <tr style=\"text-align: right;\">\n",
       "      <th></th>\n",
       "      <th>AnoCalendario</th>\n",
       "      <th>DataArquivamento</th>\n",
       "      <th>DataAbertura</th>\n",
       "      <th>CodigoRegiao</th>\n",
       "      <th>Regiao</th>\n",
       "      <th>UF</th>\n",
       "      <th>strRazaoSocial</th>\n",
       "      <th>strNomeFantasia</th>\n",
       "      <th>Tipo</th>\n",
       "      <th>NumeroCNPJ</th>\n",
       "      <th>...</th>\n",
       "      <th>CNAEPrincipal</th>\n",
       "      <th>DescCNAEPrincipal</th>\n",
       "      <th>Atendida</th>\n",
       "      <th>CodigoAssunto</th>\n",
       "      <th>DescricaoAssunto</th>\n",
       "      <th>CodigoProblema</th>\n",
       "      <th>DescricaoProblema</th>\n",
       "      <th>SexoConsumidor</th>\n",
       "      <th>FaixaEtariaConsumidor</th>\n",
       "      <th>CEPConsumidor</th>\n",
       "    </tr>\n",
       "  </thead>\n",
       "  <tbody>\n",
       "    <tr>\n",
       "      <th>1</th>\n",
       "      <td>2016</td>\n",
       "      <td>2016-12-15 18:11:35.000</td>\n",
       "      <td>2016-11-18 14:52:22.000</td>\n",
       "      <td>2</td>\n",
       "      <td>Nordeste</td>\n",
       "      <td>PE</td>\n",
       "      <td>GIORGIO ARMANI BRASIL COMERCIO</td>\n",
       "      <td>EMPORIO ARMANI</td>\n",
       "      <td>1</td>\n",
       "      <td>1.318050e+13</td>\n",
       "      <td>...</td>\n",
       "      <td>NaN</td>\n",
       "      <td>NaN</td>\n",
       "      <td>N</td>\n",
       "      <td>132</td>\n",
       "      <td>Vestuário ( Calçado / Roupa )</td>\n",
       "      <td>105.0</td>\n",
       "      <td>Produto com vício</td>\n",
       "      <td>F</td>\n",
       "      <td>entre 31 a 40 anos</td>\n",
       "      <td>51010140.0</td>\n",
       "    </tr>\n",
       "    <tr>\n",
       "      <th>6</th>\n",
       "      <td>2016</td>\n",
       "      <td>2016-08-18 09:48:59.000</td>\n",
       "      <td>2016-05-16 09:02:35.000</td>\n",
       "      <td>2</td>\n",
       "      <td>Nordeste</td>\n",
       "      <td>PE</td>\n",
       "      <td>RIACHUELO MIDWAY S/A</td>\n",
       "      <td>MIDWAY FINANCEIRA-RIACHUELO</td>\n",
       "      <td>1</td>\n",
       "      <td>9.464032e+12</td>\n",
       "      <td>...</td>\n",
       "      <td>6436100.0</td>\n",
       "      <td>SOCIEDADES DE CRÉDITO, FINANCIAMENTO E INVESTI...</td>\n",
       "      <td>N</td>\n",
       "      <td>54</td>\n",
       "      <td>Cartão de Crédito</td>\n",
       "      <td>247.0</td>\n",
       "      <td>SAC - Resolução de demandas (ausência de respo...</td>\n",
       "      <td>F</td>\n",
       "      <td>entre 41 a 50 anos</td>\n",
       "      <td>53600000.0</td>\n",
       "    </tr>\n",
       "    <tr>\n",
       "      <th>19</th>\n",
       "      <td>2016</td>\n",
       "      <td>2016-02-29 18:22:19.000</td>\n",
       "      <td>2016-01-11 10:56:08.000</td>\n",
       "      <td>2</td>\n",
       "      <td>Nordeste</td>\n",
       "      <td>MA</td>\n",
       "      <td>TOTAL MOTOS</td>\n",
       "      <td>NaN</td>\n",
       "      <td>1</td>\n",
       "      <td>NaN</td>\n",
       "      <td>...</td>\n",
       "      <td>NaN</td>\n",
       "      <td>NaN</td>\n",
       "      <td>N</td>\n",
       "      <td>141</td>\n",
       "      <td>Outros Produtos Importados</td>\n",
       "      <td>119.0</td>\n",
       "      <td>Compra de veiculo (multa, transferência, alien...</td>\n",
       "      <td>F</td>\n",
       "      <td>entre 51 a 60 anos</td>\n",
       "      <td>NaN</td>\n",
       "    </tr>\n",
       "    <tr>\n",
       "      <th>25</th>\n",
       "      <td>2016</td>\n",
       "      <td>2016-11-24 11:16:40.000</td>\n",
       "      <td>2014-12-04 16:45:50.000</td>\n",
       "      <td>2</td>\n",
       "      <td>Nordeste</td>\n",
       "      <td>PB</td>\n",
       "      <td>BMG MULTIFAQ-1 FUNDO DE APLIC EM QUOTAS FUNDOS...</td>\n",
       "      <td>BANCO BMG</td>\n",
       "      <td>1</td>\n",
       "      <td>1.135423e+12</td>\n",
       "      <td>...</td>\n",
       "      <td>6470101.0</td>\n",
       "      <td>FUNDOS DE INVESTIMENTO, EXCETO PREVIDENCIÁRIOS...</td>\n",
       "      <td>N</td>\n",
       "      <td>63</td>\n",
       "      <td>Financeira</td>\n",
       "      <td>27.0</td>\n",
       "      <td>Contrato (não cumprimento, alteração, transfer...</td>\n",
       "      <td>F</td>\n",
       "      <td>entre 51 a 60 anos</td>\n",
       "      <td>58441000.0</td>\n",
       "    </tr>\n",
       "    <tr>\n",
       "      <th>27</th>\n",
       "      <td>2016</td>\n",
       "      <td>2016-05-20 14:15:49.000</td>\n",
       "      <td>2014-06-17 10:36:14.000</td>\n",
       "      <td>2</td>\n",
       "      <td>Nordeste</td>\n",
       "      <td>PB</td>\n",
       "      <td>BMG MULTIFAQ-1 FUNDO DE APLIC EM QUOTAS FUNDOS...</td>\n",
       "      <td>BANCO BMG</td>\n",
       "      <td>1</td>\n",
       "      <td>1.135423e+12</td>\n",
       "      <td>...</td>\n",
       "      <td>6470101.0</td>\n",
       "      <td>FUNDOS DE INVESTIMENTO, EXCETO PREVIDENCIÁRIOS...</td>\n",
       "      <td>N</td>\n",
       "      <td>76</td>\n",
       "      <td>Outros Contratos</td>\n",
       "      <td>250.0</td>\n",
       "      <td>Problemas com crédito consignado</td>\n",
       "      <td>F</td>\n",
       "      <td>entre 61 a 70 anos</td>\n",
       "      <td>58400500.0</td>\n",
       "    </tr>\n",
       "  </tbody>\n",
       "</table>\n",
       "<p>5 rows × 23 columns</p>\n",
       "</div>"
      ],
      "text/plain": [
       "    AnoCalendario         DataArquivamento             DataAbertura  \\\n",
       "1            2016  2016-12-15 18:11:35.000  2016-11-18 14:52:22.000   \n",
       "6            2016  2016-08-18 09:48:59.000  2016-05-16 09:02:35.000   \n",
       "19           2016  2016-02-29 18:22:19.000  2016-01-11 10:56:08.000   \n",
       "25           2016  2016-11-24 11:16:40.000  2014-12-04 16:45:50.000   \n",
       "27           2016  2016-05-20 14:15:49.000  2014-06-17 10:36:14.000   \n",
       "\n",
       "    CodigoRegiao    Regiao  UF  \\\n",
       "1              2  Nordeste  PE   \n",
       "6              2  Nordeste  PE   \n",
       "19             2  Nordeste  MA   \n",
       "25             2  Nordeste  PB   \n",
       "27             2  Nordeste  PB   \n",
       "\n",
       "                                       strRazaoSocial  \\\n",
       "1                      GIORGIO ARMANI BRASIL COMERCIO   \n",
       "6                                RIACHUELO MIDWAY S/A   \n",
       "19                                        TOTAL MOTOS   \n",
       "25  BMG MULTIFAQ-1 FUNDO DE APLIC EM QUOTAS FUNDOS...   \n",
       "27  BMG MULTIFAQ-1 FUNDO DE APLIC EM QUOTAS FUNDOS...   \n",
       "\n",
       "                strNomeFantasia  Tipo    NumeroCNPJ      ...       \\\n",
       "1                EMPORIO ARMANI     1  1.318050e+13      ...        \n",
       "6   MIDWAY FINANCEIRA-RIACHUELO     1  9.464032e+12      ...        \n",
       "19                          NaN     1           NaN      ...        \n",
       "25                    BANCO BMG     1  1.135423e+12      ...        \n",
       "27                    BANCO BMG     1  1.135423e+12      ...        \n",
       "\n",
       "    CNAEPrincipal                                  DescCNAEPrincipal Atendida  \\\n",
       "1             NaN                                                NaN        N   \n",
       "6       6436100.0  SOCIEDADES DE CRÉDITO, FINANCIAMENTO E INVESTI...        N   \n",
       "19            NaN                                                NaN        N   \n",
       "25      6470101.0  FUNDOS DE INVESTIMENTO, EXCETO PREVIDENCIÁRIOS...        N   \n",
       "27      6470101.0  FUNDOS DE INVESTIMENTO, EXCETO PREVIDENCIÁRIOS...        N   \n",
       "\n",
       "    CodigoAssunto               DescricaoAssunto CodigoProblema  \\\n",
       "1             132  Vestuário ( Calçado / Roupa )          105.0   \n",
       "6              54              Cartão de Crédito          247.0   \n",
       "19            141     Outros Produtos Importados          119.0   \n",
       "25             63                     Financeira           27.0   \n",
       "27             76               Outros Contratos          250.0   \n",
       "\n",
       "                                    DescricaoProblema SexoConsumidor  \\\n",
       "1                                   Produto com vício              F   \n",
       "6   SAC - Resolução de demandas (ausência de respo...              F   \n",
       "19  Compra de veiculo (multa, transferência, alien...              F   \n",
       "25  Contrato (não cumprimento, alteração, transfer...              F   \n",
       "27                   Problemas com crédito consignado              F   \n",
       "\n",
       "    FaixaEtariaConsumidor CEPConsumidor  \n",
       "1      entre 31 a 40 anos    51010140.0  \n",
       "6      entre 41 a 50 anos    53600000.0  \n",
       "19     entre 51 a 60 anos           NaN  \n",
       "25     entre 51 a 60 anos    58441000.0  \n",
       "27     entre 61 a 70 anos    58400500.0  \n",
       "\n",
       "[5 rows x 23 columns]"
      ]
     },
     "execution_count": 78,
     "metadata": {},
     "output_type": "execute_result"
    }
   ],
   "source": [
    "reclamacoes_naoatendidas_ne.head()"
   ]
  },
  {
   "cell_type": "code",
   "execution_count": 81,
   "metadata": {},
   "outputs": [
    {
     "data": {
      "text/plain": [
       "<matplotlib.axes._subplots.AxesSubplot at 0x7fdbc859ad10>"
      ]
     },
     "execution_count": 81,
     "metadata": {},
     "output_type": "execute_result"
    },
    {
     "data": {
      "image/png": "[encoded data removed]",
      "text/plain": [
       "<matplotlib.figure.Figure at 0x7fdbc85b9790>"
      ]
     },
     "metadata": {},
     "output_type": "display_data"
    }
   ],
   "source": [
    "sns.countplot(x=\"UF\", data=reclamacoes_naoatendidas_ne)"
   ]
  },
  {
   "cell_type": "code",
   "execution_count": 85,
   "metadata": {},
   "outputs": [
    {
     "data": {
      "text/plain": [
       "count                  25321\n",
       "unique                     8\n",
       "top       entre 31 a 40 anos\n",
       "freq                    6064\n",
       "Name: FaixaEtariaConsumidor, dtype: object"
      ]
     },
     "execution_count": 85,
     "metadata": {},
     "output_type": "execute_result"
    }
   ],
   "source": [
    "reclamacoes_naoatendidas_ne['FaixaEtariaConsumidor'].describe()"
   ]
  },
  {
   "cell_type": "code",
   "execution_count": 112,
   "metadata": {},
   "outputs": [
    {
     "data": {
      "text/plain": [
       "entre 31 a 40 anos    6064\n",
       "entre 41 a 50 anos    5163\n",
       "entre 21 a 30 anos    4263\n",
       "entre 51 a 60 anos    4059\n",
       "entre 61 a 70 anos    2852\n",
       "mais de 70 anos       1341\n",
       "Nao Informada          978\n",
       "até 20 anos            601\n",
       "Name: FaixaEtariaConsumidor, dtype: int64"
      ]
     },
     "execution_count": 112,
     "metadata": {},
     "output_type": "execute_result"
    }
   ],
   "source": [
    "reclamacoes_naoatendidas_ne['FaixaEtariaConsumidor'].value_counts()"
   ]
  },
  {
   "cell_type": "code",
   "execution_count": 100,
   "metadata": {},
   "outputs": [],
   "source": [
    "values = reclamacoes_naoatendidas_ne['strRazaoSocial'].value_counts()"
   ]
  },
  {
   "cell_type": "code",
   "execution_count": 101,
   "metadata": {},
   "outputs": [],
   "source": [
    "name = np.array(values.index)\n",
    "values = np.array(values)"
   ]
  },
  {
   "cell_type": "code",
   "execution_count": 103,
   "metadata": {},
   "outputs": [
    {
     "data": {
      "text/html": [
       "<div>\n",
       "<style>\n",
       "    .dataframe thead tr:only-child th {\n",
       "        text-align: right;\n",
       "    }\n",
       "\n",
       "    .dataframe thead th {\n",
       "        text-align: left;\n",
       "    }\n",
       "\n",
       "    .dataframe tbody tr th {\n",
       "        vertical-align: top;\n",
       "    }\n",
       "</style>\n",
       "<table border=\"1\" class=\"dataframe\">\n",
       "  <thead>\n",
       "    <tr style=\"text-align: right;\">\n",
       "      <th></th>\n",
       "      <th>empresa</th>\n",
       "      <th>qtd</th>\n",
       "    </tr>\n",
       "  </thead>\n",
       "  <tbody>\n",
       "    <tr>\n",
       "      <th>1</th>\n",
       "      <td>SAMSUNG ELETRONICA DA AMAZONIA LTDA</td>\n",
       "      <td>471</td>\n",
       "    </tr>\n",
       "    <tr>\n",
       "      <th>2</th>\n",
       "      <td>COMPANHIA DE ELETRICIDADE DO ESTADO DA BAHIA</td>\n",
       "      <td>433</td>\n",
       "    </tr>\n",
       "    <tr>\n",
       "      <th>3</th>\n",
       "      <td>VIA VAREJO S/A</td>\n",
       "      <td>430</td>\n",
       "    </tr>\n",
       "    <tr>\n",
       "      <th>4</th>\n",
       "      <td>SKY BRASIL SERVICOS LTDA</td>\n",
       "      <td>353</td>\n",
       "    </tr>\n",
       "    <tr>\n",
       "      <th>5</th>\n",
       "      <td>TELEMAR NORTE LESTE S/A</td>\n",
       "      <td>336</td>\n",
       "    </tr>\n",
       "  </tbody>\n",
       "</table>\n",
       "</div>"
      ],
      "text/plain": [
       "                                        empresa  qtd\n",
       "1           SAMSUNG ELETRONICA DA AMAZONIA LTDA  471\n",
       "2  COMPANHIA DE ELETRICIDADE DO ESTADO DA BAHIA  433\n",
       "3                                VIA VAREJO S/A  430\n",
       "4                      SKY BRASIL SERVICOS LTDA  353\n",
       "5                       TELEMAR NORTE LESTE S/A  336"
      ]
     },
     "execution_count": 103,
     "metadata": {},
     "output_type": "execute_result"
    }
   ],
   "source": [
    "top5 = pd.DataFrame({'empresa':name, 'qtd': values})\n",
    "top5.index = np.arange(1, len(top5)+1)\n",
    "top5 = top5.head()\n",
    "top5"
   ]
  },
  {
   "cell_type": "code",
   "execution_count": 95,
   "metadata": {},
   "outputs": [],
   "source": [
    "values = reclamacoes_naoatendidas_ne['DescricaoAssunto'].value_counts()\n",
    "names = np.array(values.index)\n",
    "values = np.array(values)"
   ]
  },
  {
   "cell_type": "code",
   "execution_count": 96,
   "metadata": {
    "collapsed": true
   },
   "outputs": [],
   "source": [
    "top5_descricao_assunto = pd.DataFrame({'descricao_assunto': names, 'qtd': values})\n",
    "top5_descricao_assunto.index = np.arange(1, len(top5_descricao_assunto)+1)\n",
    "top5_descricao_assunto = top5_descricao_assunto.head()"
   ]
  },
  {
   "cell_type": "code",
   "execution_count": 97,
   "metadata": {},
   "outputs": [
    {
     "data": {
      "text/html": [
       "<div>\n",
       "<style>\n",
       "    .dataframe thead tr:only-child th {\n",
       "        text-align: right;\n",
       "    }\n",
       "\n",
       "    .dataframe thead th {\n",
       "        text-align: left;\n",
       "    }\n",
       "\n",
       "    .dataframe tbody tr th {\n",
       "        vertical-align: top;\n",
       "    }\n",
       "</style>\n",
       "<table border=\"1\" class=\"dataframe\">\n",
       "  <thead>\n",
       "    <tr style=\"text-align: right;\">\n",
       "      <th></th>\n",
       "      <th>descricao_assunto</th>\n",
       "      <th>qtd</th>\n",
       "    </tr>\n",
       "  </thead>\n",
       "  <tbody>\n",
       "    <tr>\n",
       "      <th>1</th>\n",
       "      <td>Telefone ( Convencional, Celular, Interfone, E...</td>\n",
       "      <td>3096</td>\n",
       "    </tr>\n",
       "    <tr>\n",
       "      <th>2</th>\n",
       "      <td>Cartão de Crédito</td>\n",
       "      <td>2243</td>\n",
       "    </tr>\n",
       "    <tr>\n",
       "      <th>3</th>\n",
       "      <td>Banco comercial</td>\n",
       "      <td>1378</td>\n",
       "    </tr>\n",
       "    <tr>\n",
       "      <th>4</th>\n",
       "      <td>Microcomputador / Produtos de Informática</td>\n",
       "      <td>1281</td>\n",
       "    </tr>\n",
       "    <tr>\n",
       "      <th>5</th>\n",
       "      <td>Telefonia Celular</td>\n",
       "      <td>1002</td>\n",
       "    </tr>\n",
       "  </tbody>\n",
       "</table>\n",
       "</div>"
      ],
      "text/plain": [
       "                                   descricao_assunto   qtd\n",
       "1  Telefone ( Convencional, Celular, Interfone, E...  3096\n",
       "2                                  Cartão de Crédito  2243\n",
       "3                                    Banco comercial  1378\n",
       "4          Microcomputador / Produtos de Informática  1281\n",
       "5                                  Telefonia Celular  1002"
      ]
     },
     "execution_count": 97,
     "metadata": {},
     "output_type": "execute_result"
    }
   ],
   "source": [
    "top5_descricao_assunto"
   ]
  },
  {
   "cell_type": "code",
   "execution_count": 113,
   "metadata": {},
   "outputs": [
    {
     "data": {
      "text/plain": [
       "count                 25320\n",
       "unique                  153\n",
       "top       Produto com vício\n",
       "freq                   7393\n",
       "Name: DescricaoProblema, dtype: object"
      ]
     },
     "execution_count": 113,
     "metadata": {},
     "output_type": "execute_result"
    }
   ],
   "source": [
    "reclamacoes_naoatendidas_ne['DescricaoProblema'].describe()"
   ]
  }
 ],
 "metadata": {
  "kernelspec": {
   "display_name": "Python 2",
   "language": "python",
   "name": "python2"
  },
  "language_info": {
   "codemirror_mode": {
    "name": "ipython",
    "version": 2
   },
   "file_extension": ".py",
   "mimetype": "text/x-python",
   "name": "python",
   "nbconvert_exporter": "python",
   "pygments_lexer": "ipython2",
   "version": "2.7.12"
  }
 },
 "nbformat": 4,
 "nbformat_minor": 2
}
